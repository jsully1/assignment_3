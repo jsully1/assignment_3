{
 "cells": [
  {
   "cell_type": "code",
   "execution_count": 1,
   "metadata": {
    "collapsed": false
   },
   "outputs": [],
   "source": [
    "# Jessica O'Sullivan, 2015-10-28\n",
    "# Question a) setting variable 'word'\n",
    "word = 'supercalifragilisticexplialidocious'"
   ]
  },
  {
   "cell_type": "code",
   "execution_count": 6,
   "metadata": {
    "collapsed": false
   },
   "outputs": [
    {
     "name": "stdout",
     "output_type": "stream",
     "text": [
      "super ice us\n"
     ]
    }
   ],
   "source": [
    "#slicing the variable 'word' to print specific chunks of the value.\n",
    "print (word[0:5], word[18:21], word[33:35])"
   ]
  },
  {
   "cell_type": "code",
   "execution_count": 2,
   "metadata": {
    "collapsed": false
   },
   "outputs": [
    {
     "name": "stdout",
     "output_type": "stream",
     "text": [
      "5.5\n"
     ]
    }
   ],
   "source": [
    "# Question b)\n",
    "# setting the variable 'sequence' as a list of numbers\n",
    "sequence = [1,2,3,4,5,6,7,8,9,10]\n",
    "\n",
    "# printing the numbers added together, then divied by the number of numbers to find the mean\n",
    "print ((1+2+3+4+5+6+7+8+9+10)/10)"
   ]
  },
  {
   "cell_type": "code",
   "execution_count": 5,
   "metadata": {
    "collapsed": false
   },
   "outputs": [],
   "source": [
    "# Defining the mean as the answer from previous line. Variable 'mean' and variable 'sequence' are set.\n",
    "mean = 5.5\n",
    "sequence = [1,2,3,4,5,6,7,8,9,10]\n"
   ]
  },
  {
   "cell_type": "code",
   "execution_count": 6,
   "metadata": {
    "collapsed": false
   },
   "outputs": [
    {
     "name": "stdout",
     "output_type": "stream",
     "text": [
      "20.25\n",
      "12.25\n",
      "6.25\n",
      "2.25\n",
      "0.25\n",
      "0.25\n",
      "2.25\n",
      "6.25\n",
      "12.25\n",
      "20.25\n"
     ]
    }
   ],
   "source": [
    "#Question c) Finding the standard deviation. Using a for loop to go through each value in 'sequence' one at a time\n",
    "#and performing the following: setting variable 'deviation' as the number value, and subtracting the mean. Square the \n",
    "# result and print the answer.\n",
    "for number in sequence:\n",
    "    deviation = (number-mean)\n",
    "    print (deviation*deviation)\n"
   ]
  },
  {
   "cell_type": "code",
   "execution_count": 30,
   "metadata": {
    "collapsed": false
   },
   "outputs": [
    {
     "name": "stdout",
     "output_type": "stream",
     "text": [
      "20.25\n",
      "12.25\n",
      "6.25\n",
      "2.25\n",
      "0.25\n",
      "0.25\n",
      "2.25\n",
      "6.25\n",
      "12.25\n",
      "20.25\n"
     ]
    }
   ],
   "source": [
    "#Question d) Finding the standard error. Using a for loop to go through each value in 'sequence' one at a time and\n",
    "#performing the following: setting variable 'error' as the number value, and subtracting from the mean. Square\n",
    "#the results and print the answer.\n",
    "for number in sequence:\n",
    "    error = (mean-number)\n",
    "    print (error*error)"
   ]
  },
  {
   "cell_type": "code",
   "execution_count": 41,
   "metadata": {
    "collapsed": false
   },
   "outputs": [
    {
     "name": "stdout",
     "output_type": "stream",
     "text": [
      "Jessica O'Sullivan\n"
     ]
    }
   ],
   "source": [
    "# Question e) setting variables 'j' and 'o' and assignming character string rather than numbers. Added the two \n",
    "# variables together to print the two character strings together as my name.\n",
    "j = \"Jessica \"\n",
    "o = \"O'Sullivan\"\n",
    "\n",
    "print (j + o)"
   ]
  },
  {
   "cell_type": "code",
   "execution_count": null,
   "metadata": {
    "collapsed": true
   },
   "outputs": [],
   "source": []
  }
 ],
 "metadata": {
  "kernelspec": {
   "display_name": "Python 3",
   "language": "python",
   "name": "python3"
  },
  "language_info": {
   "codemirror_mode": {
    "name": "ipython",
    "version": 3
   },
   "file_extension": ".py",
   "mimetype": "text/x-python",
   "name": "python",
   "nbconvert_exporter": "python",
   "pygments_lexer": "ipython3",
   "version": "3.4.3"
  }
 },
 "nbformat": 4,
 "nbformat_minor": 0
}
